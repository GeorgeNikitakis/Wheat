{
 "cells": [
  {
   "cell_type": "code",
   "execution_count": 1,
   "id": "82d56dba",
   "metadata": {},
   "outputs": [],
   "source": [
    "import numpy as np\n",
    "import pickle\n",
    "import pandas as pd\n",
    "from flask import Flask, request\n",
    "from flask import Flask, request, jsonify, render_template"
   ]
  },
  {
   "cell_type": "code",
   "execution_count": 2,
   "id": "80c109e6",
   "metadata": {},
   "outputs": [
    {
     "name": "stderr",
     "output_type": "stream",
     "text": [
      "C:\\Users\\tozie\\anaconda3\\lib\\site-packages\\sklearn\\base.py:310: UserWarning: Trying to unpickle estimator DecisionTreeClassifier from version 1.0.2 when using version 0.24.2. This might lead to breaking code or invalid results. Use at your own risk.\n",
      "  warnings.warn(\n",
      "C:\\Users\\tozie\\anaconda3\\lib\\site-packages\\sklearn\\base.py:310: UserWarning: Trying to unpickle estimator RandomForestClassifier from version 1.0.2 when using version 0.24.2. This might lead to breaking code or invalid results. Use at your own risk.\n",
      "  warnings.warn(\n"
     ]
    }
   ],
   "source": [
    "app=Flask(__name__)\n",
    "pickle_in = open(\"Wheatclassifier.pkl\",\"rb\")\n",
    "classifier=pickle.load(pickle_in)"
   ]
  },
  {
   "cell_type": "code",
   "execution_count": 3,
   "id": "17b74dfe",
   "metadata": {},
   "outputs": [],
   "source": [
    "@app.route('/')\n",
    "#def hello():\n",
    "#    return \"This is a APP Creation Test\"\n",
    "def home():\n",
    "    return render_template('index.html')"
   ]
  },
  {
   "cell_type": "code",
   "execution_count": 4,
   "id": "455986c4",
   "metadata": {},
   "outputs": [],
   "source": [
    "@app.route('/predict',methods=['POST'])\n",
    "def predict():\n",
    "    '''\n",
    "    For rendering results on HTML GUI\n",
    "    '''\n",
    "    int_features = [x for x in request.form.values()]\n",
    "    final_features = [np.array(int_features)]\n",
    "    prediction = classifier.predict(final_features)\n",
    "    \n",
    "    return render_template('index.html', prediction_text='The Wheat belong to Kernel type {}'.format(prediction))"
   ]
  },
  {
   "cell_type": "code",
   "execution_count": 5,
   "id": "cefdfc53",
   "metadata": {},
   "outputs": [],
   "source": [
    "\n",
    "#@app.route('/predict')\n",
    "#def predict_class():\n",
    "#    Area=request.args.get('Area')\n",
    "#    Perimeter=request.args.get('Perimeter')\n",
    "#    Compactness=request.args.get('Compactness')\n",
    "#    Kernellength=request.args.get('Kernellength')\n",
    "#    Kernelwidth=request.args.get('Kernelwidth')\n",
    "#    Asymmetry=request.args.get('Asymmetry')\n",
    "#    Kernelgroove=request.args.get('Kernelgroove')\n",
    "    \n",
    "#    prediction=classifier.predict([[Area,Perimeter,Compactness,Kernellength,Kernelwidth,Asymmetry,Kernelgroove]])\n",
    "#    return \" The Predicted Class is\"+ str(prediction)\n"
   ]
  },
  {
   "cell_type": "code",
   "execution_count": 6,
   "id": "937ad7da",
   "metadata": {},
   "outputs": [
    {
     "name": "stdout",
     "output_type": "stream",
     "text": [
      " * Serving Flask app \"__main__\" (lazy loading)\n",
      " * Environment: production\n",
      "\u001b[31m   WARNING: This is a development server. Do not use it in a production deployment.\u001b[0m\n",
      "\u001b[2m   Use a production WSGI server instead.\u001b[0m\n",
      " * Debug mode: off\n"
     ]
    },
    {
     "name": "stderr",
     "output_type": "stream",
     "text": [
      " * Running on http://127.0.0.1:5000/ (Press CTRL+C to quit)\n",
      "127.0.0.1 - - [06/Apr/2022 21:13:28] \"GET / HTTP/1.1\" 200 -\n",
      "127.0.0.1 - - [06/Apr/2022 21:13:29] \"GET /static/css/style.css HTTP/1.1\" 200 -\n",
      "127.0.0.1 - - [06/Apr/2022 21:13:29] \"GET /favicon.ico HTTP/1.1\" 404 -\n",
      "127.0.0.1 - - [06/Apr/2022 21:16:42] \"POST /predict HTTP/1.1\" 200 -\n"
     ]
    }
   ],
   "source": [
    "if __name__=='__main__':\n",
    "    app.run()"
   ]
  }
 ],
 "metadata": {
  "kernelspec": {
   "display_name": "Python 3 (ipykernel)",
   "language": "python",
   "name": "python3"
  },
  "language_info": {
   "codemirror_mode": {
    "name": "ipython",
    "version": 3
   },
   "file_extension": ".py",
   "mimetype": "text/x-python",
   "name": "python",
   "nbconvert_exporter": "python",
   "pygments_lexer": "ipython3",
   "version": "3.9.7"
  }
 },
 "nbformat": 4,
 "nbformat_minor": 5
}
