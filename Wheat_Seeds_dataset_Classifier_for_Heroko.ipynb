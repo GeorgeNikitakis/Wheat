{
  "nbformat": 4,
  "nbformat_minor": 0,
  "metadata": {
    "colab": {
      "name": "Wheat-Seeds dataset Classifier for Heroko.ipynb",
      "provenance": []
    },
    "kernelspec": {
      "name": "python3",
      "display_name": "Python 3"
    },
    "language_info": {
      "name": "python"
    }
  },
  "cells": [
    {
      "cell_type": "code",
      "execution_count": 18,
      "metadata": {
        "id": "7M0O2HlY9Wnj"
      },
      "outputs": [],
      "source": [
        "import pandas as pd\n",
        "import matplotlib.pyplot as plt\n",
        "import numpy as np\n",
        "#import seaborn as sns"
      ]
    },
    {
      "cell_type": "code",
      "source": [
        "df=pd.read_csv('/content/seeds.csv')\n",
        "df"
      ],
      "metadata": {
        "colab": {
          "base_uri": "https://localhost:8080/",
          "height": 424
        },
        "id": "Ml9xvLod9xoo",
        "outputId": "389627bc-9914-41cb-d011-4a19903a2b5e"
      },
      "execution_count": 19,
      "outputs": [
        {
          "output_type": "execute_result",
          "data": {
            "text/plain": [
              "      Area  Perimeter  Compactness  Kernel.Length  Kernel.Width  \\\n",
              "0    15.26      14.84       0.8710          5.763         3.312   \n",
              "1    14.88      14.57       0.8811          5.554         3.333   \n",
              "2    14.29      14.09       0.9050          5.291         3.337   \n",
              "3    13.84      13.94       0.8955          5.324         3.379   \n",
              "4    16.14      14.99       0.9034          5.658         3.562   \n",
              "..     ...        ...          ...            ...           ...   \n",
              "194  12.19      13.20       0.8783          5.137         2.981   \n",
              "195  11.23      12.88       0.8511          5.140         2.795   \n",
              "196  13.20      13.66       0.8883          5.236         3.232   \n",
              "197  11.84      13.21       0.8521          5.175         2.836   \n",
              "198  12.30      13.34       0.8684          5.243         2.974   \n",
              "\n",
              "     Asymmetry.Coeff  Kernel.Groove      Type  \n",
              "0              2.221          5.220      Kama  \n",
              "1              1.018          4.956      Kama  \n",
              "2              2.699          4.825      Kama  \n",
              "3              2.259          4.805      Kama  \n",
              "4              1.355          5.175      Kama  \n",
              "..               ...            ...       ...  \n",
              "194            3.631          4.870  Canadian  \n",
              "195            4.325          5.003  Canadian  \n",
              "196            8.315          5.056  Canadian  \n",
              "197            3.598          5.044  Canadian  \n",
              "198            5.637          5.063  Canadian  \n",
              "\n",
              "[199 rows x 8 columns]"
            ],
            "text/html": [
              "\n",
              "  <div id=\"df-31c2d0c5-e049-43e9-9b95-52f142723d62\">\n",
              "    <div class=\"colab-df-container\">\n",
              "      <div>\n",
              "<style scoped>\n",
              "    .dataframe tbody tr th:only-of-type {\n",
              "        vertical-align: middle;\n",
              "    }\n",
              "\n",
              "    .dataframe tbody tr th {\n",
              "        vertical-align: top;\n",
              "    }\n",
              "\n",
              "    .dataframe thead th {\n",
              "        text-align: right;\n",
              "    }\n",
              "</style>\n",
              "<table border=\"1\" class=\"dataframe\">\n",
              "  <thead>\n",
              "    <tr style=\"text-align: right;\">\n",
              "      <th></th>\n",
              "      <th>Area</th>\n",
              "      <th>Perimeter</th>\n",
              "      <th>Compactness</th>\n",
              "      <th>Kernel.Length</th>\n",
              "      <th>Kernel.Width</th>\n",
              "      <th>Asymmetry.Coeff</th>\n",
              "      <th>Kernel.Groove</th>\n",
              "      <th>Type</th>\n",
              "    </tr>\n",
              "  </thead>\n",
              "  <tbody>\n",
              "    <tr>\n",
              "      <th>0</th>\n",
              "      <td>15.26</td>\n",
              "      <td>14.84</td>\n",
              "      <td>0.8710</td>\n",
              "      <td>5.763</td>\n",
              "      <td>3.312</td>\n",
              "      <td>2.221</td>\n",
              "      <td>5.220</td>\n",
              "      <td>Kama</td>\n",
              "    </tr>\n",
              "    <tr>\n",
              "      <th>1</th>\n",
              "      <td>14.88</td>\n",
              "      <td>14.57</td>\n",
              "      <td>0.8811</td>\n",
              "      <td>5.554</td>\n",
              "      <td>3.333</td>\n",
              "      <td>1.018</td>\n",
              "      <td>4.956</td>\n",
              "      <td>Kama</td>\n",
              "    </tr>\n",
              "    <tr>\n",
              "      <th>2</th>\n",
              "      <td>14.29</td>\n",
              "      <td>14.09</td>\n",
              "      <td>0.9050</td>\n",
              "      <td>5.291</td>\n",
              "      <td>3.337</td>\n",
              "      <td>2.699</td>\n",
              "      <td>4.825</td>\n",
              "      <td>Kama</td>\n",
              "    </tr>\n",
              "    <tr>\n",
              "      <th>3</th>\n",
              "      <td>13.84</td>\n",
              "      <td>13.94</td>\n",
              "      <td>0.8955</td>\n",
              "      <td>5.324</td>\n",
              "      <td>3.379</td>\n",
              "      <td>2.259</td>\n",
              "      <td>4.805</td>\n",
              "      <td>Kama</td>\n",
              "    </tr>\n",
              "    <tr>\n",
              "      <th>4</th>\n",
              "      <td>16.14</td>\n",
              "      <td>14.99</td>\n",
              "      <td>0.9034</td>\n",
              "      <td>5.658</td>\n",
              "      <td>3.562</td>\n",
              "      <td>1.355</td>\n",
              "      <td>5.175</td>\n",
              "      <td>Kama</td>\n",
              "    </tr>\n",
              "    <tr>\n",
              "      <th>...</th>\n",
              "      <td>...</td>\n",
              "      <td>...</td>\n",
              "      <td>...</td>\n",
              "      <td>...</td>\n",
              "      <td>...</td>\n",
              "      <td>...</td>\n",
              "      <td>...</td>\n",
              "      <td>...</td>\n",
              "    </tr>\n",
              "    <tr>\n",
              "      <th>194</th>\n",
              "      <td>12.19</td>\n",
              "      <td>13.20</td>\n",
              "      <td>0.8783</td>\n",
              "      <td>5.137</td>\n",
              "      <td>2.981</td>\n",
              "      <td>3.631</td>\n",
              "      <td>4.870</td>\n",
              "      <td>Canadian</td>\n",
              "    </tr>\n",
              "    <tr>\n",
              "      <th>195</th>\n",
              "      <td>11.23</td>\n",
              "      <td>12.88</td>\n",
              "      <td>0.8511</td>\n",
              "      <td>5.140</td>\n",
              "      <td>2.795</td>\n",
              "      <td>4.325</td>\n",
              "      <td>5.003</td>\n",
              "      <td>Canadian</td>\n",
              "    </tr>\n",
              "    <tr>\n",
              "      <th>196</th>\n",
              "      <td>13.20</td>\n",
              "      <td>13.66</td>\n",
              "      <td>0.8883</td>\n",
              "      <td>5.236</td>\n",
              "      <td>3.232</td>\n",
              "      <td>8.315</td>\n",
              "      <td>5.056</td>\n",
              "      <td>Canadian</td>\n",
              "    </tr>\n",
              "    <tr>\n",
              "      <th>197</th>\n",
              "      <td>11.84</td>\n",
              "      <td>13.21</td>\n",
              "      <td>0.8521</td>\n",
              "      <td>5.175</td>\n",
              "      <td>2.836</td>\n",
              "      <td>3.598</td>\n",
              "      <td>5.044</td>\n",
              "      <td>Canadian</td>\n",
              "    </tr>\n",
              "    <tr>\n",
              "      <th>198</th>\n",
              "      <td>12.30</td>\n",
              "      <td>13.34</td>\n",
              "      <td>0.8684</td>\n",
              "      <td>5.243</td>\n",
              "      <td>2.974</td>\n",
              "      <td>5.637</td>\n",
              "      <td>5.063</td>\n",
              "      <td>Canadian</td>\n",
              "    </tr>\n",
              "  </tbody>\n",
              "</table>\n",
              "<p>199 rows × 8 columns</p>\n",
              "</div>\n",
              "      <button class=\"colab-df-convert\" onclick=\"convertToInteractive('df-31c2d0c5-e049-43e9-9b95-52f142723d62')\"\n",
              "              title=\"Convert this dataframe to an interactive table.\"\n",
              "              style=\"display:none;\">\n",
              "        \n",
              "  <svg xmlns=\"http://www.w3.org/2000/svg\" height=\"24px\"viewBox=\"0 0 24 24\"\n",
              "       width=\"24px\">\n",
              "    <path d=\"M0 0h24v24H0V0z\" fill=\"none\"/>\n",
              "    <path d=\"M18.56 5.44l.94 2.06.94-2.06 2.06-.94-2.06-.94-.94-2.06-.94 2.06-2.06.94zm-11 1L8.5 8.5l.94-2.06 2.06-.94-2.06-.94L8.5 2.5l-.94 2.06-2.06.94zm10 10l.94 2.06.94-2.06 2.06-.94-2.06-.94-.94-2.06-.94 2.06-2.06.94z\"/><path d=\"M17.41 7.96l-1.37-1.37c-.4-.4-.92-.59-1.43-.59-.52 0-1.04.2-1.43.59L10.3 9.45l-7.72 7.72c-.78.78-.78 2.05 0 2.83L4 21.41c.39.39.9.59 1.41.59.51 0 1.02-.2 1.41-.59l7.78-7.78 2.81-2.81c.8-.78.8-2.07 0-2.86zM5.41 20L4 18.59l7.72-7.72 1.47 1.35L5.41 20z\"/>\n",
              "  </svg>\n",
              "      </button>\n",
              "      \n",
              "  <style>\n",
              "    .colab-df-container {\n",
              "      display:flex;\n",
              "      flex-wrap:wrap;\n",
              "      gap: 12px;\n",
              "    }\n",
              "\n",
              "    .colab-df-convert {\n",
              "      background-color: #E8F0FE;\n",
              "      border: none;\n",
              "      border-radius: 50%;\n",
              "      cursor: pointer;\n",
              "      display: none;\n",
              "      fill: #1967D2;\n",
              "      height: 32px;\n",
              "      padding: 0 0 0 0;\n",
              "      width: 32px;\n",
              "    }\n",
              "\n",
              "    .colab-df-convert:hover {\n",
              "      background-color: #E2EBFA;\n",
              "      box-shadow: 0px 1px 2px rgba(60, 64, 67, 0.3), 0px 1px 3px 1px rgba(60, 64, 67, 0.15);\n",
              "      fill: #174EA6;\n",
              "    }\n",
              "\n",
              "    [theme=dark] .colab-df-convert {\n",
              "      background-color: #3B4455;\n",
              "      fill: #D2E3FC;\n",
              "    }\n",
              "\n",
              "    [theme=dark] .colab-df-convert:hover {\n",
              "      background-color: #434B5C;\n",
              "      box-shadow: 0px 1px 3px 1px rgba(0, 0, 0, 0.15);\n",
              "      filter: drop-shadow(0px 1px 2px rgba(0, 0, 0, 0.3));\n",
              "      fill: #FFFFFF;\n",
              "    }\n",
              "  </style>\n",
              "\n",
              "      <script>\n",
              "        const buttonEl =\n",
              "          document.querySelector('#df-31c2d0c5-e049-43e9-9b95-52f142723d62 button.colab-df-convert');\n",
              "        buttonEl.style.display =\n",
              "          google.colab.kernel.accessAllowed ? 'block' : 'none';\n",
              "\n",
              "        async function convertToInteractive(key) {\n",
              "          const element = document.querySelector('#df-31c2d0c5-e049-43e9-9b95-52f142723d62');\n",
              "          const dataTable =\n",
              "            await google.colab.kernel.invokeFunction('convertToInteractive',\n",
              "                                                     [key], {});\n",
              "          if (!dataTable) return;\n",
              "\n",
              "          const docLinkHtml = 'Like what you see? Visit the ' +\n",
              "            '<a target=\"_blank\" href=https://colab.research.google.com/notebooks/data_table.ipynb>data table notebook</a>'\n",
              "            + ' to learn more about interactive tables.';\n",
              "          element.innerHTML = '';\n",
              "          dataTable['output_type'] = 'display_data';\n",
              "          await google.colab.output.renderOutput(dataTable, element);\n",
              "          const docLink = document.createElement('div');\n",
              "          docLink.innerHTML = docLinkHtml;\n",
              "          element.appendChild(docLink);\n",
              "        }\n",
              "      </script>\n",
              "    </div>\n",
              "  </div>\n",
              "  "
            ]
          },
          "metadata": {},
          "execution_count": 19
        }
      ]
    },
    {
      "cell_type": "code",
      "source": [
        "# Independent and Dependent features\n",
        "X=df.iloc[:,:-1]\n",
        "y=df.iloc[:,-1]"
      ],
      "metadata": {
        "id": "m64fYf4W91Y-"
      },
      "execution_count": 20,
      "outputs": []
    },
    {
      "cell_type": "code",
      "source": [
        "# Train Test Split\n",
        "from sklearn.model_selection import train_test_split"
      ],
      "metadata": {
        "id": "jN-t8u74JBjD"
      },
      "execution_count": 21,
      "outputs": []
    },
    {
      "cell_type": "code",
      "source": [
        "X_train,X_test,y_train,y_test=train_test_split(X,y,test_size=0.3,random_state=0)"
      ],
      "metadata": {
        "id": "q8xsXcdLJG_i"
      },
      "execution_count": 22,
      "outputs": []
    },
    {
      "cell_type": "code",
      "source": [
        "# Implement Random Forest classifier\n",
        "from sklearn.ensemble import RandomForestClassifier\n",
        "Wheatclassifier=RandomForestClassifier()\n",
        "Wheatclassifier.fit(X_train,y_train)"
      ],
      "metadata": {
        "colab": {
          "base_uri": "https://localhost:8080/"
        },
        "id": "uzqJmZS6JMyd",
        "outputId": "9481be8f-cb90-4114-d518-eafec1aae096"
      },
      "execution_count": 23,
      "outputs": [
        {
          "output_type": "execute_result",
          "data": {
            "text/plain": [
              "RandomForestClassifier()"
            ]
          },
          "metadata": {},
          "execution_count": 23
        }
      ]
    },
    {
      "cell_type": "code",
      "source": [
        "# Prediction\n",
        "y_pred=Wheatclassifier.predict(X_test)"
      ],
      "metadata": {
        "id": "xZhSzkRXJYBa"
      },
      "execution_count": 24,
      "outputs": []
    },
    {
      "cell_type": "code",
      "source": [
        "# Check Accuracy\n",
        "from sklearn.metrics import accuracy_score\n",
        "score=accuracy_score(y_test,y_pred)"
      ],
      "metadata": {
        "id": "mlnpndaKJi4M"
      },
      "execution_count": 25,
      "outputs": []
    },
    {
      "cell_type": "code",
      "source": [
        "score"
      ],
      "metadata": {
        "colab": {
          "base_uri": "https://localhost:8080/"
        },
        "id": "9d2MHn6Cs-1o",
        "outputId": "6e6efdee-8fa5-47e5-a41c-4c256fc31fe2"
      },
      "execution_count": 26,
      "outputs": [
        {
          "output_type": "execute_result",
          "data": {
            "text/plain": [
              "0.8833333333333333"
            ]
          },
          "metadata": {},
          "execution_count": 26
        }
      ]
    },
    {
      "cell_type": "code",
      "source": [
        "import pickle\n",
        "pickle_out = open(\"Wheatclassifier.pkl\", \"wb\")\n",
        "pickle.dump(Wheatclassifier, pickle_out)\n",
        "pickle_out.close()"
      ],
      "metadata": {
        "id": "wt3bSEIyBEZu"
      },
      "execution_count": 27,
      "outputs": []
    },
    {
      "cell_type": "markdown",
      "source": [
        "![image.png](data:image/png;base64,iVBORw0KGgoAAAANSUhEUgAAAcEAAAAVCAYAAAA+Y1VlAAAFWElEQVR4nO2dvXLqOhDH/75z3iMNpMjwBOIJIE2qtOnsEprbpUyXxi6hS5sqzbWfIH4CJkXswnmSvYUN8Ycky3BAYry/GWYO1tf+tauVsZU5XlEUBIZhGIYZIX8A4ObmxrYd1vj5+WH9rN+2GdZg/ax/7Pr/sW0EwzAMw9iCN0GGYRhmtPAmyDAMw4wW3gQZhmGY0cKbIMMwDDNarG+CeTSH53mYR7n0+v4TJIoOkqBR7/cTIBnSjyXM9JdaFD0gmre070X2zM1FyCPMTee/Za9+TuY4FB/bzioav8lqa+K4L8bd1D8kxmEUR0kg8X8jNtzRXkdqtwRVrtDNjev5DzDU3+NH5dyYjFEUBdkhJh8gEcYUCpAIs9+iLCQhQsoOXwUBPsWmPfsg+LFRP07qp5j8mt0HPVIyCgVIWdwetdXXefXvNWb7wQkQ1JDaqFsry0ISte9ZKAi1OTm9XYk9/w/wmy6Oe2LcXf1DYtwgjmKfIHzyhaZe7Du0/itkdncr6XOFam6czn8VJvq1ftTNTf8YRVGQxU1wT6Y2/lClmdj03WnqSsquQb8+kQ1MppfU30k6GluzkESjbn1za210f6NdxVVsgp2mpjHusv4m2hjvjaP99+Za6vbZnQ+7+uV299Vv1Bu8xq5Pv4kf1XlUP0ZRFGT9cagR2RdSzHA76a+avK6R+s9YyeoO6McdEryuU4jHe+jM3i77H/lo5+YM5N87QNxh2rq++5YYOFnh2d9i6QVIkCOaL7EL30pb82/sALw/SR4dHtvOEUz81kEXx/WyK9Bfoo/xvjjKoyesZzE2i2b55HYGpF/IGldTfDUvWENl96A+hqwxx/Kfqf5T/Ggyxh8DWy2TI3rZQoQZ+mMlwccW8GNZzSH9OEASwFtuy3/7MUi5c02w+iSsqm95NMd0GuCWNi2durm5FBPcztSliw0hhoeltwVEiGyvOftCCiB8I3xOUL4DmS4RPBA2i+Pb2cXUb210cdwqc1o/BsR4m1oc5RGe1jPEtADQSvyLDWK/igsAgIAQgCYEL4fO7pNQrTHH8t8Q/cf60XAM538JJsEUa4R4M1ggefSCrQjxr8TLQ/pxgsUGRAQiQnb3YnyYZbJ6ho8tPjqHI9RzczlyfO9UZQkCz8PHQ6X58R3Txq+j2h3s5B6PYn+3e2w7t1D5rY0ujuVlDus/MsZ/4yhD9LTGLFbfOCw2dBiD6Bmz9G8Zfwp5r92n9C1bY27lv+H6h/vRfAynN8Ek8LDchcg+V9pHgVVtvK5T+M/dusP6cY/J/SMEdjDKXfk3dhC4azwfUc/NOZE/xgBmkucx7U16snpDKFK8/5cD0zul/mPbOYfUb010cSwtuyL9uhhXxxHwldYfKU+xToF0PYU3j7r3/skHtvDxYP2nUDbMbg0ma8y9/HeifiM/DhjD/otx2QvL8pr8RXlV1nrzKz9BquunxEn9WUiipq+prak/9psviGO/q1d3uvYSp0MPUhov8Vt+bL/gz0ISh7atOaqfFju2XYUt/+v91o5xg/WgKXNR/5AY18dRo1PNAYvWKcoK++ufqGu3PMfJ9RmsMafzH5G5fiKVH/sPGKoPxlj/Ewm0PiLMKkd2y8pJkU2QYmK0/ZQ4qX+v8XC9nrhkm0etbifgVUFTcnb91abUq4OqjaAzF7J+mqffjm1HZNH/Wr/1+Lgex30x7qr+ITFOpImjbp8H/7e0y9bAdWwCulxB6rlxOv/V6dGv9WPP3CjHKCmKgryiKGjs/5UG62f9Y4X1s/6x63f6nSDDMAzDnBPeBBmGYZjRwpsgwzAMM1q8oijIthEMwzAMY4P/AcFh7W3SUGI+AAAAAElFTkSuQmCC)"
      ],
      "metadata": {
        "id": "0-fOtyWKWrzo"
      }
    },
    {
      "cell_type": "code",
      "source": [
        "Wheatclassifier.predict([[12.72, 13.57,0.86,5.22,3.04,4.10,4.9]])"
      ],
      "metadata": {
        "colab": {
          "base_uri": "https://localhost:8080/"
        },
        "id": "ma-OBOhwDfpg",
        "outputId": "a03f139d-6ce8-4ee1-e3a7-15f7492d0da7"
      },
      "execution_count": 28,
      "outputs": [
        {
          "output_type": "stream",
          "name": "stderr",
          "text": [
            "/usr/local/lib/python3.7/dist-packages/sklearn/base.py:451: UserWarning: X does not have valid feature names, but RandomForestClassifier was fitted with feature names\n",
            "  \"X does not have valid feature names, but\"\n"
          ]
        },
        {
          "output_type": "execute_result",
          "data": {
            "text/plain": [
              "array(['Canadian'], dtype=object)"
            ]
          },
          "metadata": {},
          "execution_count": 28
        }
      ]
    },
    {
      "cell_type": "markdown",
      "source": [
        "![image.png](data:image/png;base64,iVBORw0KGgoAAAANSUhEUgAAAcEAAAAVCAYAAAA+Y1VlAAAE/ElEQVR4nO2dO3LjOBCGf27tPZxIE7h0AugEtpOJnDqjQinZTOFkk1ChnTl15GTIEyxPoHIgMqBP0hvoBYAACFprAzT7q1JgsiHi7268mpqapGkaAsMwDMOMkL8B4OrqKnQ/gvH+/s76WX/obgSD9bP+sev/K3QnGIZhGCYUvAgyDMMwo4UXQYZhGGa08CLIMAzDjBZeBBmGYZjREvUiWG/mSJIE801tvH78LIru79h/FnCYBsFPo7vfPrbFIjE+59OpN5h7xgrFQomr2ydznG53tNubBNJvpcZmnij9ThzO8cl5k8aY87/POFZjbI+9TevQ4w/Y898aY0/fhKGn/o55pLdvZJqmofjIKQVIZDllAiSy6nyrykiIjKrTn4KAlHLb90i2eQpCqlqG0+/Q6NHvXrZ5ShAppa3nfLb+o8bq3A8I0rog2Ur3qoyE9HeVCYKk07fd6blB9LuoKBMga1gVU4+cN2qMOP/7jGM9b/LUMeYNOocef+rIf++5on1/GPrd88glvmmahiJdBI9UhgVCNzFMelbTtrPC6+/WaA+yj+0x2czP+VT9rcnKkfhVRkKxlRc3baHzbic/M4B+J/0mQbWpnvNujedmMeb/Acc4bve7Kx++W/wdevVvdc0VBh8PQr9zHrnMN03TUNTlUC+qN5SY4ceky7DA71UJcX+HTtOo6NPvtm29ecBqluPx5nN7aaLebQFxjal2fbszlKQmS6zTJ9wmCxSosZnfYps9YzkBUO+wBfDyYCiduNohrH4fnm4NJb4utJz30xh5/jvG8eTHDCjfUClXS7xVbdvi9wpluv5e8Xflv4I7xrpvYsBHv3Me+T98E81O0EjXKcnjpJinBGD/MWw7wuu3aOjot5etckr6+p2waeeVp+545elBh9xOL4dVGQmou0hju8D6++Au6yuWqo4ujdHnP5HPOD7FFyBAkDCeIvZls9P17xL/rvz3mis03xwYgn7nPHKhbwZ/EiwWU6yQ4dm1tbl5BBGBiFBd/4rkpbAHffpttK2xeVhhlj8ink1wjd3Wdq/AIknw+vOg4/4FU2V3KJ0SJne4F8cTpa1djPrtTJZrpHjCa0dyqjnvoXEA+e8zjm8e6aSDaI1Z2bapN7/wJDL8cwN4+SYiuuNvy394xVj1TXz45v8efR65zDeDXQSLRYLbbYbq36V3eWdydw+BLUzVuJjp0++zbYW3Ui43TLEqgXI1RTLf4CtcYC5jATNDzUsfpJPlMzJR4uVPDUyvrfrt7f4E19+LeoctBK71mo9EO+f7xTjG/P/IOEbxiiek+KlM6PtyV7r+mG+C44q/I/91zDHWfRMhDv3OeeRi32CI5dD9NfPL38O947G3ykhIR2DTkTu8foNGZ7/7a7Q+h77m16FqacKiQ3/5rZQ1tL7LJRBnO5m4ymF5qr7Mz1M5pzXfOHNexlAqjTb/e4xjBe2XgscWneXk4cffmP8eMXb5Zhj6u+eRj/om4l+H7kVD+5xrwO17e4dZJg/pXYL+2iH0P5EwanT2u79G2e7LJ4HDotStQ3/vY9gYSPeM7wNN7c5fENUk2Mpjwy961Q2CLedldI0R53+fcazFvh1f88KoMuD4EznyvyvGbt8MU7+m8cO+2etPmqahsf9XGqyf9Y8V1s/6x65/sO8EGYZhGOZSeBFkGIZhRgsvggzDMMxoSZqmodCdYBiGYZgQ/AcabfkgcJhwGAAAAABJRU5ErkJggg==)"
      ],
      "metadata": {
        "id": "vTShc9mBXrwS"
      }
    },
    {
      "cell_type": "markdown",
      "source": [
        "![image.png](data:image/png;base64,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)"
      ],
      "metadata": {
        "id": "9XTe38fqcAqx"
      }
    },
    {
      "cell_type": "code",
      "source": [
        "Wheatclassifier.predict([[12.3, 13.34,0.8684,5.243,2.974,5.637,5.063]])"
      ],
      "metadata": {
        "colab": {
          "base_uri": "https://localhost:8080/"
        },
        "id": "_YNhh2yKXqhv",
        "outputId": "30c549d5-6bea-446c-ce67-81d6b689cb1d"
      },
      "execution_count": 29,
      "outputs": [
        {
          "output_type": "stream",
          "name": "stderr",
          "text": [
            "/usr/local/lib/python3.7/dist-packages/sklearn/base.py:451: UserWarning: X does not have valid feature names, but RandomForestClassifier was fitted with feature names\n",
            "  \"X does not have valid feature names, but\"\n"
          ]
        },
        {
          "output_type": "execute_result",
          "data": {
            "text/plain": [
              "array(['Canadian'], dtype=object)"
            ]
          },
          "metadata": {},
          "execution_count": 29
        }
      ]
    },
    {
      "cell_type": "code",
      "source": [
        "Wheatclassifier.predict([[15.26, 14.84,0.871,5.763,3.312,2.221,5.22]])"
      ],
      "metadata": {
        "colab": {
          "base_uri": "https://localhost:8080/"
        },
        "id": "QFHSbeGkcFhZ",
        "outputId": "f86c505a-d107-416f-b61c-cc565a886310"
      },
      "execution_count": 30,
      "outputs": [
        {
          "output_type": "stream",
          "name": "stderr",
          "text": [
            "/usr/local/lib/python3.7/dist-packages/sklearn/base.py:451: UserWarning: X does not have valid feature names, but RandomForestClassifier was fitted with feature names\n",
            "  \"X does not have valid feature names, but\"\n"
          ]
        },
        {
          "output_type": "execute_result",
          "data": {
            "text/plain": [
              "array(['Kama'], dtype=object)"
            ]
          },
          "metadata": {},
          "execution_count": 30
        }
      ]
    }
  ]
}